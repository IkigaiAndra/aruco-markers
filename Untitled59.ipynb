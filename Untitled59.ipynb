{
  "nbformat": 4,
  "nbformat_minor": 0,
  "metadata": {
    "colab": {
      "provenance": []
    },
    "kernelspec": {
      "name": "python3",
      "display_name": "Python 3"
    },
    "language_info": {
      "name": "python"
    }
  },
  "cells": [
    {
      "cell_type": "code",
      "source": [
        "!pip install --upgrade opencv-contrib-python"
      ],
      "metadata": {
        "colab": {
          "base_uri": "https://localhost:8080/"
        },
        "id": "yHop_cUaLK9Q",
        "outputId": "f40d4254-ecec-4937-cf70-7ed7e3d67e71"
      },
      "execution_count": 2,
      "outputs": [
        {
          "output_type": "stream",
          "name": "stdout",
          "text": [
            "Requirement already satisfied: opencv-contrib-python in /usr/local/lib/python3.10/dist-packages (4.10.0.84)\n",
            "Requirement already satisfied: numpy>=1.21.2 in /usr/local/lib/python3.10/dist-packages (from opencv-contrib-python) (1.26.4)\n"
          ]
        }
      ]
    },
    {
      "cell_type": "markdown",
      "source": [
        "ARUCO DETECTOR"
      ],
      "metadata": {
        "id": "EG-0z03dNfJm"
      }
    },
    {
      "cell_type": "code",
      "source": [
        "!pip install --upgrade opencv-contrib-python\n",
        "import cv2\n",
        "import numpy as np\n",
        "\n",
        "# Function to generate Aruco marker\n",
        "def generate_aruco_marker(marker_id, dictionary=cv2.aruco.DICT_4X4_50, marker_size=500):\n",
        "    # Load the dictionary\n",
        "    aruco_dict = cv2.aruco.getPredefinedDictionary(dictionary)\n",
        "\n",
        "    # Create the marker image\n",
        "    # Use generateImageMarker instead of drawMarker\n",
        "    # Fix: Unpack into marker_image and _ (ignore other return values)\n",
        "    marker_image, _ = cv2.aruco.generateImageMarker(aruco_dict, marker_id, marker_size)\n",
        "\n",
        "    # Save the generated marker image\n",
        "    filename = f\"aruco_marker_{marker_id}.png\"\n",
        "    cv2.imwrite(filename, marker_image)\n",
        "    print(f\"Aruco marker {marker_id} generated and saved as {filename}\")\n",
        "\n",
        "    # Display the marker\n",
        "    cv2.imshow(f\"Aruco Marker {marker_id}\", marker_image)\n",
        "    cv2.waitKey(0)\n",
        "    cv2.destroyAllWindows()\n",
        "\n",
        "# Function to detect Aruco markers\n",
        "def detect_aruco_markers(image, dictionary=cv2.aruco.DICT_4X4_50):\n",
        "    # Load the dictionary\n",
        "    aruco_dict = cv2.aruco.getPredefinedDictionary(dictionary)\n",
        "\n",
        "    # Initialize the parameters for detection\n",
        "    parameters = cv2.aruco.DetectorParameters_create()\n",
        "\n",
        "    # Detect the markers in the image\n",
        "    corners, ids, rejected_img_points = cv2.aruco.detectMarkers(image, aruco_dict, parameters=parameters)\n",
        "\n",
        "    if len(corners) > 0:\n",
        "        # Draw the detected markers on the image\n",
        "        image_with_markers = cv2.aruco.drawDetectedMarkers(image, corners, ids)\n",
        "\n",
        "        # Display the image with the detected markers\n",
        "        cv2.imshow(\"Detected Aruco Markers\", image_with_markers)\n",
        "        cv2.waitKey(0)\n",
        "        cv2.destroyAllWindows()\n",
        "\n",
        "        # Print the detected marker IDs\n",
        "        print(f\"Detected Aruco Marker IDs: {ids.flatten()}\")\n",
        "    else:\n",
        "        print(\"No markers detected.\")\n",
        "\n",
        "def main():\n",
        "    choice = input(\"Do you want to (1) Generate or (2) Detect Aruco markers? Enter 1 or 2: \")\n",
        "\n",
        "    if choice == \"1\":\n",
        "        # Generate Aruco marker\n",
        "        marker_id = int(input(\"Enter the Aruco marker ID (0-49): \"))\n",
        "        generate_aruco_marker(marker_id)\n",
        "\n",
        "    elif choice == \"2\":\n",
        "        # Detect Aruco markers\n",
        "        image_path = input(\"Enter the image path to detect Aruco markers: \")\n",
        "        image = cv2.imread(image_path)\n",
        "\n",
        "        if image is None:\n",
        "            print(\"Error: Could not load the image.\")\n",
        "            return\n",
        "\n",
        "        detect_aruco_markers(image)\n",
        "\n",
        "    else:\n",
        "        print(\"Invalid choice. Exiting...\")\n",
        "\n",
        "if __name__ == \"__main__\":\n",
        "    main()"
      ],
      "metadata": {
        "colab": {
          "base_uri": "https://localhost:8080/"
        },
        "id": "KiAWRAQ3L6-O",
        "outputId": "8583b558-0fd8-4bd0-9b09-f792aa036714"
      },
      "execution_count": 14,
      "outputs": [
        {
          "output_type": "stream",
          "name": "stdout",
          "text": [
            "Requirement already satisfied: opencv-contrib-python in /usr/local/lib/python3.10/dist-packages (4.10.0.84)\n",
            "Requirement already satisfied: numpy>=1.21.2 in /usr/local/lib/python3.10/dist-packages (from opencv-contrib-python) (1.26.4)\n",
            "Do you want to (1) Generate or (2) Detect Aruco markers? Enter 1 or 2: 2\n",
            "Enter the image path to detect Aruco markers: 2\n",
            "Error: Could not load the image.\n"
          ]
        }
      ]
    },
    {
      "cell_type": "markdown",
      "source": [
        "ARUCO GENERATOR UPDATED"
      ],
      "metadata": {
        "id": "isInCtL_M_V6"
      }
    },
    {
      "cell_type": "code",
      "source": [
        "import cv2\n",
        "\n",
        "dictionary = cv2.aruco.getPredefinedDictionary(cv2.aruco.DICT_6X6_250)\n",
        "marker_id = 69\n",
        "marker_size = 200\n",
        "marker_image = cv2.aruco.generateImageMarker(dictionary, marker_id, marker_size)"
      ],
      "metadata": {
        "id": "GBkJYbKqMxs-"
      },
      "execution_count": 12,
      "outputs": []
    },
    {
      "cell_type": "code",
      "source": [
        "import matplotlib.pyplot as plt\n",
        "\n",
        "plt.imshow(marker_image, cmap='gray')\n",
        "plt.axis('off')\n",
        "plt.show()"
      ],
      "metadata": {
        "colab": {
          "base_uri": "https://localhost:8080/",
          "height": 406
        },
        "id": "ccuEFeHwM0CK",
        "outputId": "2fc7cd0e-bf1c-41c9-d6e7-482980f6d3fb"
      },
      "execution_count": 11,
      "outputs": [
        {
          "output_type": "display_data",
          "data": {
            "text/plain": [
              "<Figure size 640x480 with 1 Axes>"
            ],
            "image/png": "[encoded data removed]"
          },
          "metadata": {}
        }
      ]
    },
    {
      "cell_type": "code",
      "source": [
        "import cv2\n",
        "import numpy as np\n",
        "import matplotlib.pyplot as plt\n",
        "\n",
        "\n",
        "# Function to generate the Aruco marker\n",
        "def generate_aruco_marker(dictionary, marker_id, marker_size):\n",
        "    # Generate the marker using the dictionary and marker ID\n",
        "    dictionary = cv2.aruco.getPredefinedDictionary(cv2.aruco.DICT_6X6_250)\n",
        "    marker_id = 69\n",
        "    marker_size = 200\n",
        "    marker_image = cv2.aruco.generateImageMarker(dictionary, marker_id, marker_size)\n",
        "    return marker_image\n",
        "\n",
        "# Function to rotate the marker image\n",
        "def rotate_image(image, angle):\n",
        "    # Get image dimensions\n",
        "    (height, width) = image.shape[:2]\n",
        "\n",
        "    # Calculate the center of the image\n",
        "    center = (width // 2, height // 2)\n",
        "\n",
        "    # Get the rotation matrix\n",
        "    rotation_matrix = cv2.getRotationMatrix2D(center, angle, 1.0)\n",
        "\n",
        "    # Perform the rotation\n",
        "    rotated_image = cv2.warpAffine(image, rotation_matrix, (width, height))\n",
        "    return rotated_image\n",
        "\n",
        "# Main function\n",
        "def main():\n",
        "    # Define the dictionary and marker ID\n",
        "    dictionary = cv2.aruco.getPredefinedDictionary(cv2.aruco.DICT_6X6_250)\n",
        "    marker_id = 69  # You can change this to any marker ID in the dictionary\n",
        "    marker_size = 200  # Size of the marker in pixels\n",
        "\n",
        "    # Generate the Aruco marker\n",
        "    marker_image = generate_aruco_marker(dictionary, marker_id, marker_size)\n",
        "\n",
        "    # Display the original marker\n",
        "   # cv2.imshow(f\"Aruco Marker {marker_id}\", marker_image)\n",
        "    plt.imshow(marker_image, cmap='gray')\n",
        "    plt.axis('off')\n",
        "    plt.show()\n",
        "    # Ask user for the rotation angle\n",
        "    angle = float(input(\"Enter the rotation angle (in degrees): \"))\n",
        "\n",
        "    # Rotate the marker\n",
        "    rotated_marker = rotate_image(marker_image, angle)\n",
        "\n",
        "    # Display the rotated marker\n",
        "    plt.show(f\"Rotated Aruco Marker {marker_id}\", rotated_marker)\n",
        "    plt.imshow(rotated_marker, cmap='gray')\n",
        "    plt.axis('off')\n",
        "    plt.show()\n",
        "    # Save the rotated marker to a file\n",
        "    rotated_filename = f\"rotated_aruco_marker_{marker_id}_angle_{angle}.png\"\n",
        "    cv2.imwrite(rotated_filename, rotated_marker)\n",
        "    print(f\"Rotated Aruco marker saved as {rotated_filename}\")\n",
        "\n",
        "    # Wait for a key press to close the display window\n",
        "    cv2.waitKey(0)\n",
        "    cv2.destroyAllWindows()\n",
        "\n",
        "if __name__ == \"__main__\":\n",
        "    main()\n"
      ],
      "metadata": {
        "colab": {
          "base_uri": "https://localhost:8080/",
          "height": 830
        },
        "id": "i9bZwvkCQ2dI",
        "outputId": "261fdfd9-3639-4784-bd09-1c5ae491bae4"
      },
      "execution_count": 24,
      "outputs": [
        {
          "output_type": "display_data",
          "data": {
            "text/plain": [
              "<Figure size 640x480 with 1 Axes>"
            ],
            "image/png": "[encoded data removed]"
          },
          "metadata": {}
        },
        {
          "name": "stdout",
          "output_type": "stream",
          "text": [
            "Enter the rotation angle (in degrees): 45\n"
          ]
        },
        {
          "output_type": "display_data",
          "data": {
            "text/plain": [
              "<Figure size 640x480 with 1 Axes>"
            ],
            "image/png": "[encoded data removed]"
          },
          "metadata": {}
        },
        {
          "output_type": "stream",
          "name": "stdout",
          "text": [
            "Rotated Aruco marker saved as rotated_aruco_marker_69_angle_45.0.png\n"
          ]
        }
      ]
    },
    {
      "cell_type": "markdown",
      "source": [
        "autogenerate aruco dataset"
      ],
      "metadata": {
        "id": "uj6XNcyDbRya"
      }
    },
    {
      "cell_type": "code",
      "source": [
        "import cv2\n",
        "import os\n",
        "\n",
        "# Function to generate and save Aruco markers\n",
        "def generate_aruco_marker(dictionary, marker_id, marker_size, output_folder): # Added output_folder as an argument\n",
        "    # Generate the marker using the dictionary and marker ID\n",
        "    # Removed redundant dictionary assignment\n",
        "    # dictionary = cv2.aruco.getPredefinedDictionary(cv2.aruco.DICT_6X6_250)\n",
        "    # marker_id = 69\n",
        "    # marker_size = 200\n",
        "    marker_image = cv2.aruco.generateImageMarker(dictionary, marker_id, marker_size)\n",
        "\n",
        "    # Save the generated marker to a file with a unique name\n",
        "    filename = os.path.join(output_folder, f\"aruco_marker_{marker_id}.png\")\n",
        "    cv2.imwrite(filename, marker_image)\n",
        "    print(f\"Saved: {filename}\")\n",
        "    #return marker_image # Removed unnecessary return\n",
        "\n",
        "# Function to generate a large dataset of Aruco markers\n",
        "def generate_marker_dataset(dictionary, marker_size, num_markers, output_folder):\n",
        "    # Create the output folder if it doesn't exist\n",
        "    if not os.path.exists(output_folder):\n",
        "        os.makedirs(output_folder)\n",
        "\n",
        "    # Generate markers with unique IDs and save them\n",
        "    for marker_id in range(num_markers):\n",
        "        generate_aruco_marker(dictionary, marker_id, marker_size, output_folder)  # Pass output_folder\n",
        "\n",
        "# Main function\n",
        "def main():\n",
        "    # Define the dictionary and marker size\n",
        "    dictionary = cv2.aruco.getPredefinedDictionary(cv2.aruco.DICT_6X6_250)  # 6x6 grid with 250 markers\n",
        "    marker_size = 200  # Size of the marker in pixels\n",
        "    num_markers = 250  # Generate 250 markers (you can adjust this number)\n",
        "\n",
        "    # Define the output folder to save the markers\n",
        "    output_folder = \"aruco_marker_dataset\"\n",
        "\n",
        "    # Generate the dataset\n",
        "    generate_marker_dataset(dictionary, marker_size, num_markers, output_folder)\n",
        "\n",
        "    print(f\"Dataset generation complete. {num_markers} markers saved to '{output_folder}'.\")\n",
        "\n",
        "if __name__ == \"__main__\":\n",
        "    main()"
      ],
      "metadata": {
        "colab": {
          "base_uri": "https://localhost:8080/"
        },
        "id": "w72-yubrZDpF",
        "outputId": "73f83c8b-fdc7-4988-a76d-b0a75fb144f6"
      },
      "execution_count": 30,
      "outputs": [
        {
          "output_type": "stream",
          "name": "stdout",
          "text": [
            "Saved: aruco_marker_dataset/aruco_marker_0.png\n",
            "Saved: aruco_marker_dataset/aruco_marker_1.png\n",
            "Saved: aruco_marker_dataset/aruco_marker_2.png\n",
            "Saved: aruco_marker_dataset/aruco_marker_3.png\n",
            "Saved: aruco_marker_dataset/aruco_marker_4.png\n",
            "Saved: aruco_marker_dataset/aruco_marker_5.png\n",
            "Saved: aruco_marker_dataset/aruco_marker_6.png\n",
            "Saved: aruco_marker_dataset/aruco_marker_7.png\n",
            "Saved: aruco_marker_dataset/aruco_marker_8.png\n",
            "Saved: aruco_marker_dataset/aruco_marker_9.png\n",
            "Saved: aruco_marker_dataset/aruco_marker_10.png\n",
            "Saved: aruco_marker_dataset/aruco_marker_11.png\n",
            "Saved: aruco_marker_dataset/aruco_marker_12.png\n",
            "Saved: aruco_marker_dataset/aruco_marker_13.png\n",
            "Saved: aruco_marker_dataset/aruco_marker_14.png\n",
            "Saved: aruco_marker_dataset/aruco_marker_15.png\n",
            "Saved: aruco_marker_dataset/aruco_marker_16.png\n",
            "Saved: aruco_marker_dataset/aruco_marker_17.png\n",
            "Saved: aruco_marker_dataset/aruco_marker_18.png\n",
            "Saved: aruco_marker_dataset/aruco_marker_19.png\n",
            "Saved: aruco_marker_dataset/aruco_marker_20.png\n",
            "Saved: aruco_marker_dataset/aruco_marker_21.png\n",
            "Saved: aruco_marker_dataset/aruco_marker_22.png\n",
            "Saved: aruco_marker_dataset/aruco_marker_23.png\n",
            "Saved: aruco_marker_dataset/aruco_marker_24.png\n",
            "Saved: aruco_marker_dataset/aruco_marker_25.png\n",
            "Saved: aruco_marker_dataset/aruco_marker_26.png\n",
            "Saved: aruco_marker_dataset/aruco_marker_27.png\n",
            "Saved: aruco_marker_dataset/aruco_marker_28.png\n",
            "Saved: aruco_marker_dataset/aruco_marker_29.png\n",
            "Saved: aruco_marker_dataset/aruco_marker_30.png\n",
            "Saved: aruco_marker_dataset/aruco_marker_31.png\n",
            "Saved: aruco_marker_dataset/aruco_marker_32.png\n",
            "Saved: aruco_marker_dataset/aruco_marker_33.png\n",
            "Saved: aruco_marker_dataset/aruco_marker_34.png\n",
            "Saved: aruco_marker_dataset/aruco_marker_35.png\n",
            "Saved: aruco_marker_dataset/aruco_marker_36.png\n",
            "Saved: aruco_marker_dataset/aruco_marker_37.png\n",
            "Saved: aruco_marker_dataset/aruco_marker_38.png\n",
            "Saved: aruco_marker_dataset/aruco_marker_39.png\n",
            "Saved: aruco_marker_dataset/aruco_marker_40.png\n",
            "Saved: aruco_marker_dataset/aruco_marker_41.png\n",
            "Saved: aruco_marker_dataset/aruco_marker_42.png\n",
            "Saved: aruco_marker_dataset/aruco_marker_43.png\n",
            "Saved: aruco_marker_dataset/aruco_marker_44.png\n",
            "Saved: aruco_marker_dataset/aruco_marker_45.png\n",
            "Saved: aruco_marker_dataset/aruco_marker_46.png\n",
            "Saved: aruco_marker_dataset/aruco_marker_47.png\n",
            "Saved: aruco_marker_dataset/aruco_marker_48.png\n",
            "Saved: aruco_marker_dataset/aruco_marker_49.png\n",
            "Saved: aruco_marker_dataset/aruco_marker_50.png\n",
            "Saved: aruco_marker_dataset/aruco_marker_51.png\n",
            "Saved: aruco_marker_dataset/aruco_marker_52.png\n",
            "Saved: aruco_marker_dataset/aruco_marker_53.png\n",
            "Saved: aruco_marker_dataset/aruco_marker_54.png\n",
            "Saved: aruco_marker_dataset/aruco_marker_55.png\n",
            "Saved: aruco_marker_dataset/aruco_marker_56.png\n",
            "Saved: aruco_marker_dataset/aruco_marker_57.png\n",
            "Saved: aruco_marker_dataset/aruco_marker_58.png\n",
            "Saved: aruco_marker_dataset/aruco_marker_59.png\n",
            "Saved: aruco_marker_dataset/aruco_marker_60.png\n",
            "Saved: aruco_marker_dataset/aruco_marker_61.png\n",
            "Saved: aruco_marker_dataset/aruco_marker_62.png\n",
            "Saved: aruco_marker_dataset/aruco_marker_63.png\n",
            "Saved: aruco_marker_dataset/aruco_marker_64.png\n",
            "Saved: aruco_marker_dataset/aruco_marker_65.png\n",
            "Saved: aruco_marker_dataset/aruco_marker_66.png\n",
            "Saved: aruco_marker_dataset/aruco_marker_67.png\n",
            "Saved: aruco_marker_dataset/aruco_marker_68.png\n",
            "Saved: aruco_marker_dataset/aruco_marker_69.png\n",
            "Saved: aruco_marker_dataset/aruco_marker_70.png\n",
            "Saved: aruco_marker_dataset/aruco_marker_71.png\n",
            "Saved: aruco_marker_dataset/aruco_marker_72.png\n",
            "Saved: aruco_marker_dataset/aruco_marker_73.png\n",
            "Saved: aruco_marker_dataset/aruco_marker_74.png\n",
            "Saved: aruco_marker_dataset/aruco_marker_75.png\n",
            "Saved: aruco_marker_dataset/aruco_marker_76.png\n",
            "Saved: aruco_marker_dataset/aruco_marker_77.png\n",
            "Saved: aruco_marker_dataset/aruco_marker_78.png\n",
            "Saved: aruco_marker_dataset/aruco_marker_79.png\n",
            "Saved: aruco_marker_dataset/aruco_marker_80.png\n",
            "Saved: aruco_marker_dataset/aruco_marker_81.png\n",
            "Saved: aruco_marker_dataset/aruco_marker_82.png\n",
            "Saved: aruco_marker_dataset/aruco_marker_83.png\n",
            "Saved: aruco_marker_dataset/aruco_marker_84.png\n",
            "Saved: aruco_marker_dataset/aruco_marker_85.png\n",
            "Saved: aruco_marker_dataset/aruco_marker_86.png\n",
            "Saved: aruco_marker_dataset/aruco_marker_87.png\n",
            "Saved: aruco_marker_dataset/aruco_marker_88.png\n",
            "Saved: aruco_marker_dataset/aruco_marker_89.png\n",
            "Saved: aruco_marker_dataset/aruco_marker_90.png\n",
            "Saved: aruco_marker_dataset/aruco_marker_91.png\n",
            "Saved: aruco_marker_dataset/aruco_marker_92.png\n",
            "Saved: aruco_marker_dataset/aruco_marker_93.png\n",
            "Saved: aruco_marker_dataset/aruco_marker_94.png\n",
            "Saved: aruco_marker_dataset/aruco_marker_95.png\n",
            "Saved: aruco_marker_dataset/aruco_marker_96.png\n",
            "Saved: aruco_marker_dataset/aruco_marker_97.png\n",
            "Saved: aruco_marker_dataset/aruco_marker_98.png\n",
            "Saved: aruco_marker_dataset/aruco_marker_99.png\n",
            "Saved: aruco_marker_dataset/aruco_marker_100.png\n",
            "Saved: aruco_marker_dataset/aruco_marker_101.png\n",
            "Saved: aruco_marker_dataset/aruco_marker_102.png\n",
            "Saved: aruco_marker_dataset/aruco_marker_103.png\n",
            "Saved: aruco_marker_dataset/aruco_marker_104.png\n",
            "Saved: aruco_marker_dataset/aruco_marker_105.png\n",
            "Saved: aruco_marker_dataset/aruco_marker_106.png\n",
            "Saved: aruco_marker_dataset/aruco_marker_107.png\n",
            "Saved: aruco_marker_dataset/aruco_marker_108.png\n",
            "Saved: aruco_marker_dataset/aruco_marker_109.png\n",
            "Saved: aruco_marker_dataset/aruco_marker_110.png\n",
            "Saved: aruco_marker_dataset/aruco_marker_111.png\n",
            "Saved: aruco_marker_dataset/aruco_marker_112.png\n",
            "Saved: aruco_marker_dataset/aruco_marker_113.png\n",
            "Saved: aruco_marker_dataset/aruco_marker_114.png\n",
            "Saved: aruco_marker_dataset/aruco_marker_115.png\n",
            "Saved: aruco_marker_dataset/aruco_marker_116.png\n",
            "Saved: aruco_marker_dataset/aruco_marker_117.png\n",
            "Saved: aruco_marker_dataset/aruco_marker_118.png\n",
            "Saved: aruco_marker_dataset/aruco_marker_119.png\n",
            "Saved: aruco_marker_dataset/aruco_marker_120.png\n",
            "Saved: aruco_marker_dataset/aruco_marker_121.png\n",
            "Saved: aruco_marker_dataset/aruco_marker_122.png\n",
            "Saved: aruco_marker_dataset/aruco_marker_123.png\n",
            "Saved: aruco_marker_dataset/aruco_marker_124.png\n",
            "Saved: aruco_marker_dataset/aruco_marker_125.png\n",
            "Saved: aruco_marker_dataset/aruco_marker_126.png\n",
            "Saved: aruco_marker_dataset/aruco_marker_127.png\n",
            "Saved: aruco_marker_dataset/aruco_marker_128.png\n",
            "Saved: aruco_marker_dataset/aruco_marker_129.png\n",
            "Saved: aruco_marker_dataset/aruco_marker_130.png\n",
            "Saved: aruco_marker_dataset/aruco_marker_131.png\n",
            "Saved: aruco_marker_dataset/aruco_marker_132.png\n",
            "Saved: aruco_marker_dataset/aruco_marker_133.png\n",
            "Saved: aruco_marker_dataset/aruco_marker_134.png\n",
            "Saved: aruco_marker_dataset/aruco_marker_135.png\n",
            "Saved: aruco_marker_dataset/aruco_marker_136.png\n",
            "Saved: aruco_marker_dataset/aruco_marker_137.png\n",
            "Saved: aruco_marker_dataset/aruco_marker_138.png\n",
            "Saved: aruco_marker_dataset/aruco_marker_139.png\n",
            "Saved: aruco_marker_dataset/aruco_marker_140.png\n",
            "Saved: aruco_marker_dataset/aruco_marker_141.png\n",
            "Saved: aruco_marker_dataset/aruco_marker_142.png\n",
            "Saved: aruco_marker_dataset/aruco_marker_143.png\n",
            "Saved: aruco_marker_dataset/aruco_marker_144.png\n",
            "Saved: aruco_marker_dataset/aruco_marker_145.png\n",
            "Saved: aruco_marker_dataset/aruco_marker_146.png\n",
            "Saved: aruco_marker_dataset/aruco_marker_147.png\n",
            "Saved: aruco_marker_dataset/aruco_marker_148.png\n",
            "Saved: aruco_marker_dataset/aruco_marker_149.png\n",
            "Saved: aruco_marker_dataset/aruco_marker_150.png\n",
            "Saved: aruco_marker_dataset/aruco_marker_151.png\n",
            "Saved: aruco_marker_dataset/aruco_marker_152.png\n",
            "Saved: aruco_marker_dataset/aruco_marker_153.png\n",
            "Saved: aruco_marker_dataset/aruco_marker_154.png\n",
            "Saved: aruco_marker_dataset/aruco_marker_155.png\n",
            "Saved: aruco_marker_dataset/aruco_marker_156.png\n",
            "Saved: aruco_marker_dataset/aruco_marker_157.png\n",
            "Saved: aruco_marker_dataset/aruco_marker_158.png\n",
            "Saved: aruco_marker_dataset/aruco_marker_159.png\n",
            "Saved: aruco_marker_dataset/aruco_marker_160.png\n",
            "Saved: aruco_marker_dataset/aruco_marker_161.png\n",
            "Saved: aruco_marker_dataset/aruco_marker_162.png\n",
            "Saved: aruco_marker_dataset/aruco_marker_163.png\n",
            "Saved: aruco_marker_dataset/aruco_marker_164.png\n",
            "Saved: aruco_marker_dataset/aruco_marker_165.png\n",
            "Saved: aruco_marker_dataset/aruco_marker_166.png\n",
            "Saved: aruco_marker_dataset/aruco_marker_167.png\n",
            "Saved: aruco_marker_dataset/aruco_marker_168.png\n",
            "Saved: aruco_marker_dataset/aruco_marker_169.png\n",
            "Saved: aruco_marker_dataset/aruco_marker_170.png\n",
            "Saved: aruco_marker_dataset/aruco_marker_171.png\n",
            "Saved: aruco_marker_dataset/aruco_marker_172.png\n",
            "Saved: aruco_marker_dataset/aruco_marker_173.png\n",
            "Saved: aruco_marker_dataset/aruco_marker_174.png\n",
            "Saved: aruco_marker_dataset/aruco_marker_175.png\n",
            "Saved: aruco_marker_dataset/aruco_marker_176.png\n",
            "Saved: aruco_marker_dataset/aruco_marker_177.png\n",
            "Saved: aruco_marker_dataset/aruco_marker_178.png\n",
            "Saved: aruco_marker_dataset/aruco_marker_179.png\n",
            "Saved: aruco_marker_dataset/aruco_marker_180.png\n",
            "Saved: aruco_marker_dataset/aruco_marker_181.png\n",
            "Saved: aruco_marker_dataset/aruco_marker_182.png\n",
            "Saved: aruco_marker_dataset/aruco_marker_183.png\n",
            "Saved: aruco_marker_dataset/aruco_marker_184.png\n",
            "Saved: aruco_marker_dataset/aruco_marker_185.png\n",
            "Saved: aruco_marker_dataset/aruco_marker_186.png\n",
            "Saved: aruco_marker_dataset/aruco_marker_187.png\n",
            "Saved: aruco_marker_dataset/aruco_marker_188.png\n",
            "Saved: aruco_marker_dataset/aruco_marker_189.png\n",
            "Saved: aruco_marker_dataset/aruco_marker_190.png\n",
            "Saved: aruco_marker_dataset/aruco_marker_191.png\n",
            "Saved: aruco_marker_dataset/aruco_marker_192.png\n",
            "Saved: aruco_marker_dataset/aruco_marker_193.png\n",
            "Saved: aruco_marker_dataset/aruco_marker_194.png\n",
            "Saved: aruco_marker_dataset/aruco_marker_195.png\n",
            "Saved: aruco_marker_dataset/aruco_marker_196.png\n",
            "Saved: aruco_marker_dataset/aruco_marker_197.png\n",
            "Saved: aruco_marker_dataset/aruco_marker_198.png\n",
            "Saved: aruco_marker_dataset/aruco_marker_199.png\n",
            "Saved: aruco_marker_dataset/aruco_marker_200.png\n",
            "Saved: aruco_marker_dataset/aruco_marker_201.png\n",
            "Saved: aruco_marker_dataset/aruco_marker_202.png\n",
            "Saved: aruco_marker_dataset/aruco_marker_203.png\n",
            "Saved: aruco_marker_dataset/aruco_marker_204.png\n",
            "Saved: aruco_marker_dataset/aruco_marker_205.png\n",
            "Saved: aruco_marker_dataset/aruco_marker_206.png\n",
            "Saved: aruco_marker_dataset/aruco_marker_207.png\n",
            "Saved: aruco_marker_dataset/aruco_marker_208.png\n",
            "Saved: aruco_marker_dataset/aruco_marker_209.png\n",
            "Saved: aruco_marker_dataset/aruco_marker_210.png\n",
            "Saved: aruco_marker_dataset/aruco_marker_211.png\n",
            "Saved: aruco_marker_dataset/aruco_marker_212.png\n",
            "Saved: aruco_marker_dataset/aruco_marker_213.png\n",
            "Saved: aruco_marker_dataset/aruco_marker_214.png\n",
            "Saved: aruco_marker_dataset/aruco_marker_215.png\n",
            "Saved: aruco_marker_dataset/aruco_marker_216.png\n",
            "Saved: aruco_marker_dataset/aruco_marker_217.png\n",
            "Saved: aruco_marker_dataset/aruco_marker_218.png\n",
            "Saved: aruco_marker_dataset/aruco_marker_219.png\n",
            "Saved: aruco_marker_dataset/aruco_marker_220.png\n",
            "Saved: aruco_marker_dataset/aruco_marker_221.png\n",
            "Saved: aruco_marker_dataset/aruco_marker_222.png\n",
            "Saved: aruco_marker_dataset/aruco_marker_223.png\n",
            "Saved: aruco_marker_dataset/aruco_marker_224.png\n",
            "Saved: aruco_marker_dataset/aruco_marker_225.png\n",
            "Saved: aruco_marker_dataset/aruco_marker_226.png\n",
            "Saved: aruco_marker_dataset/aruco_marker_227.png\n",
            "Saved: aruco_marker_dataset/aruco_marker_228.png\n",
            "Saved: aruco_marker_dataset/aruco_marker_229.png\n",
            "Saved: aruco_marker_dataset/aruco_marker_230.png\n",
            "Saved: aruco_marker_dataset/aruco_marker_231.png\n",
            "Saved: aruco_marker_dataset/aruco_marker_232.png\n",
            "Saved: aruco_marker_dataset/aruco_marker_233.png\n",
            "Saved: aruco_marker_dataset/aruco_marker_234.png\n",
            "Saved: aruco_marker_dataset/aruco_marker_235.png\n",
            "Saved: aruco_marker_dataset/aruco_marker_236.png\n",
            "Saved: aruco_marker_dataset/aruco_marker_237.png\n",
            "Saved: aruco_marker_dataset/aruco_marker_238.png\n",
            "Saved: aruco_marker_dataset/aruco_marker_239.png\n",
            "Saved: aruco_marker_dataset/aruco_marker_240.png\n",
            "Saved: aruco_marker_dataset/aruco_marker_241.png\n",
            "Saved: aruco_marker_dataset/aruco_marker_242.png\n",
            "Saved: aruco_marker_dataset/aruco_marker_243.png\n",
            "Saved: aruco_marker_dataset/aruco_marker_244.png\n",
            "Saved: aruco_marker_dataset/aruco_marker_245.png\n",
            "Saved: aruco_marker_dataset/aruco_marker_246.png\n",
            "Saved: aruco_marker_dataset/aruco_marker_247.png\n",
            "Saved: aruco_marker_dataset/aruco_marker_248.png\n",
            "Saved: aruco_marker_dataset/aruco_marker_249.png\n",
            "Dataset generation complete. 250 markers saved to 'aruco_marker_dataset'.\n"
          ]
        }
      ]
    },
    {
      "cell_type": "markdown",
      "source": [
        "upload damaged image of arucomarkers and scan it accurately"
      ],
      "metadata": {
        "id": "vg2ESyBmbYUn"
      }
    },
    {
      "cell_type": "code",
      "source": [
        "import cv2\n",
        "import numpy as np\n",
        "\n",
        "def detect_aruco_marker(image):\n",
        "    # Load the predefined Aruco dictionary\n",
        "    dictionary = cv2.aruco.getPredefinedDictionary(cv2.aruco.DICT_6X6_250)\n",
        "\n",
        "    # Set detection parameters to be more robust to noise and partial damage\n",
        "    parameters = cv2.aruco.DetectorParameters_create()\n",
        "    parameters.adaptiveThreshWinSizeMin = 3  # Small window size to improve detection\n",
        "    parameters.adaptiveThreshWinSizeMax = 23\n",
        "    parameters.adaptiveThreshWinSizeStep = 10\n",
        "    parameters.minMarkerPerimeterRate = 0.03  # Smaller perimeters of markers can still be detected\n",
        "    parameters.maxMarkerPerimeterRate = 4.0\n",
        "    parameters.perspectiveRemoveIgnoredMarginPerCell = 0.15\n",
        "\n",
        "    # Detect markers in the image\n",
        "    corners, ids, rejectedImgPoints = cv2.aruco.detectMarkers(image, dictionary, parameters=parameters)\n",
        "\n",
        "    # If markers are found, draw them on the image\n",
        "    if len(corners) > 0:\n",
        "        # Draw detected markers\n",
        "        image = cv2.aruco.drawDetectedMarkers(image, corners, ids)\n",
        "        print(f\"Detected Aruco marker IDs: {ids.flatten()}\")\n",
        "    else:\n",
        "        print(\"No markers detected.\")\n",
        "\n",
        "    # Display the output image\n",
        "    cv2.imshow(\"Aruco Marker Detection\", image)\n",
        "    cv2.waitKey(0)\n",
        "    cv2.destroyAllWindows()\n",
        "\n",
        "# Main function to load an image and detect Aruco markers\n",
        "def main():\n",
        "    # Load an image containing the Aruco marker (damaged or not)\n",
        "    image_path = \"damaged_aruco_marker.png\"  # Replace with your image path\n",
        "    image = cv2.imread(image_path)\n",
        "\n",
        "    if image is None:\n",
        "        print(\"Image not found!\")\n",
        "        return\n",
        "\n",
        "    # Detect Aruco markers in the image\n",
        "    detect_aruco_marker(image)\n",
        "\n",
        "if __name__ == \"__main__\":\n",
        "    main()\n"
      ],
      "metadata": {
        "colab": {
          "base_uri": "https://localhost:8080/"
        },
        "id": "SdCH6gQmZOM5",
        "outputId": "e71872b2-f827-45ec-e366-1bd59a11b0d1"
      },
      "execution_count": 31,
      "outputs": [
        {
          "output_type": "stream",
          "name": "stdout",
          "text": [
            "Image not found!\n"
          ]
        }
      ]
    }
  ]
}